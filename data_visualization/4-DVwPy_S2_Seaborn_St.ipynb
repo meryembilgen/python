{
 "cells": [
  {
   "cell_type": "markdown",
   "metadata": {
    "id": "iZam929kZqci"
   },
   "source": [
    "___\n",
    "\n",
    "<p style=\"text-align: center;\"><img src=\"https://docs.google.com/uc?id=1lY0Uj5R04yMY3-ZppPWxqCr5pvBLYPnV\" class=\"img-fluid\" \n",
    "alt=\"CLRSWY\"></p>\n",
    "\n",
    "## <p style=\"background-color:#FDFEFE; font-family:newtimeroman; color:#9d4f8c; font-size:100%; text-align:center; border-radius:10px 10px;\">WAY TO REINVENT YOURSELF</p>"
   ]
  },
  {
   "cell_type": "markdown",
   "metadata": {
    "id": "yx2rM4qXZqcu"
   },
   "source": [
    "![image.png](https://i.ibb.co/hg2Kd1X/seabornlogo.png)\n",
    "\n",
    "Seaborn is a library for making statistical graphics in Python. It builds on top of matplotlib and integrates closely with pandas data structures.\n",
    "\n",
    "Seaborn helps you explore and understand your data. Its plotting functions operate on dataframes and arrays containing whole datasets and internally perform the necessary semantic mapping and statistical aggregation to produce informative plots. Its dataset-oriented, declarative API lets you focus on what the different elements of your plots mean, rather than on the details of how to draw them\n",
    "\n",
    "[Seaborn Source 01](https://seaborn.pydata.org/introduction.html), [Seaborn Source 02](https://seaborn.pydata.org/), [Seaborn Source 03](https://www.youtube.com/watch?v=GcXcSZ0gQps), [Seaborn Source 04](https://www.youtube.com/watch?v=6GUZXDef2U0) & [Seaborn Source 05](https://www.youtube.com/watch?v=Pkvdc2Z6eBg)"
   ]
  },
  {
   "cell_type": "markdown",
   "metadata": {
    "id": "ajrFkCP8Zqcw"
   },
   "source": [
    "<a id=\"toc\"></a>\n",
    "\n",
    "## <p style=\"background-color:#9d4f8c; font-family:newtimeroman; color:#FFF9ED; font-size:150%; text-align:center; border-radius:10px 10px;\">CONTENT</p>\n",
    "\n",
    "* [IMPORTING LIBRARIES NEEDED IN THIS NOTEBOOK](#0)\n",
    "* [COUNTPLOT](#1)\n",
    "    * [\"hue\" Parameter](#1.1)\n",
    "    * [Extra Information](#1.2)\n",
    "* [BARPLOT](#2)\n",
    "    * [\"errorbar\" Parameter](#2.1)\n",
    "    * [\"estimator\" Parameter](#2.2)    \n",
    "* [BOXPLOT](#3)\n",
    "    * [\"width\" Parameter](#3.1)\n",
    "    * [Optional Boxplot Examples](#3.2)\n",
    "    * [\"orient\" Parameter](#3.3)\n",
    "    * [Changing x & y](#3.4)\n",
    "* [VIOLINPLOT](#4)\n",
    "    * [Optionel Violinplot Example](#4.1)\n",
    "    * [\"split\" Parameter](#4.2)\n",
    "    * [\"inner\" Parameter](#4.3)\n",
    "    * [\"bandwidth\" Parameter](#4.4)\n",
    "    * [Changing x & y](#4.5)\n",
    "* [SWARMPLOT](#5) \n",
    "    * [Optional Swarmplot Example](#5.1)\n",
    "    * [\"dodge\" Parameter](#5.2)\n",
    "* [BOXENPLOT (LETTER-VALUE PLOT)](#6)        \n",
    "* [LINEPLOT](#7)\n",
    "* [THE END OF THE SEABORN SESSION 02](#8)    "
   ]
  },
  {
   "cell_type": "markdown",
   "metadata": {
    "id": "DZXBvjhkZqcz"
   },
   "source": [
    "## <p style=\"background-color:#9d4f8c; font-family:newtimeroman; color:#FFF9ED; font-size:150%; text-align:center; border-radius:10px 10px;\">IMPORTING LIBRARIES NEEDED IN THIS NOTEBOOK</p>\n",
    "\n",
    "<a id=\"0\"></a>\n",
    "<a href=\"#toc\" class=\"btn btn-primary btn-sm\" role=\"button\" aria-pressed=\"true\" \n",
    "style=\"color:blue; background-color:#dfa8e4\" data-toggle=\"popover\">Content</a>"
   ]
  },
  {
   "cell_type": "code",
   "execution_count": 9,
   "metadata": {
    "executionInfo": {
     "elapsed": 808,
     "status": "ok",
     "timestamp": 1653064277653,
     "user": {
      "displayName": "Michael Gd",
      "userId": "11180041065344820766"
     },
     "user_tz": -180
    },
    "id": "qoeLpoIMjT4S"
   },
   "outputs": [],
   "source": [
    "import pandas as pd\n",
    "import numpy as np\n",
    "import matplotlib.pyplot as plt\n",
    "from scipy import stats\n",
    "import seaborn as sns"
   ]
  },
  {
   "cell_type": "code",
   "execution_count": 10,
   "metadata": {
    "colab": {
     "base_uri": "https://localhost:8080/"
    },
    "executionInfo": {
     "elapsed": 865,
     "status": "ok",
     "timestamp": 1653064278514,
     "user": {
      "displayName": "Michael Gd",
      "userId": "11180041065344820766"
     },
     "user_tz": -180
    },
    "id": "L87x47bXZqc8",
    "outputId": "722e376b-c7a1-44fa-8df5-c51eaff5417f"
   },
   "outputs": [
    {
     "name": "stdout",
     "output_type": "stream",
     "text": [
      "['anagrams', 'anscombe', 'attention', 'brain_networks', 'car_crashes', 'diamonds', 'dots', 'dowjones', 'exercise', 'flights', 'fmri', 'geyser', 'glue', 'healthexp', 'iris', 'mpg', 'penguins', 'planets', 'seaice', 'taxis', 'tips', 'titanic']\n"
     ]
    }
   ],
   "source": [
    "print(sns.get_dataset_names())"
   ]
  },
  {
   "cell_type": "code",
   "execution_count": 11,
   "metadata": {
    "colab": {
     "base_uri": "https://localhost:8080/",
     "height": 206
    },
    "executionInfo": {
     "elapsed": 512,
     "status": "ok",
     "timestamp": 1653064279021,
     "user": {
      "displayName": "Michael Gd",
      "userId": "11180041065344820766"
     },
     "user_tz": -180
    },
    "id": "1FSojkNYjmBj",
    "outputId": "d00af5ee-963e-455d-94df-6ec2c0f481a8"
   },
   "outputs": [
    {
     "data": {
      "text/html": [
       "<div>\n",
       "<style scoped>\n",
       "    .dataframe tbody tr th:only-of-type {\n",
       "        vertical-align: middle;\n",
       "    }\n",
       "\n",
       "    .dataframe tbody tr th {\n",
       "        vertical-align: top;\n",
       "    }\n",
       "\n",
       "    .dataframe thead th {\n",
       "        text-align: right;\n",
       "    }\n",
       "</style>\n",
       "<table border=\"1\" class=\"dataframe\">\n",
       "  <thead>\n",
       "    <tr style=\"text-align: right;\">\n",
       "      <th></th>\n",
       "      <th>total_bill</th>\n",
       "      <th>tip</th>\n",
       "      <th>sex</th>\n",
       "      <th>smoker</th>\n",
       "      <th>day</th>\n",
       "      <th>time</th>\n",
       "      <th>size</th>\n",
       "    </tr>\n",
       "  </thead>\n",
       "  <tbody>\n",
       "    <tr>\n",
       "      <th>0</th>\n",
       "      <td>16.99</td>\n",
       "      <td>1.01</td>\n",
       "      <td>Female</td>\n",
       "      <td>No</td>\n",
       "      <td>Sun</td>\n",
       "      <td>Dinner</td>\n",
       "      <td>2</td>\n",
       "    </tr>\n",
       "    <tr>\n",
       "      <th>1</th>\n",
       "      <td>10.34</td>\n",
       "      <td>1.66</td>\n",
       "      <td>Male</td>\n",
       "      <td>No</td>\n",
       "      <td>Sun</td>\n",
       "      <td>Dinner</td>\n",
       "      <td>3</td>\n",
       "    </tr>\n",
       "    <tr>\n",
       "      <th>2</th>\n",
       "      <td>21.01</td>\n",
       "      <td>3.50</td>\n",
       "      <td>Male</td>\n",
       "      <td>No</td>\n",
       "      <td>Sun</td>\n",
       "      <td>Dinner</td>\n",
       "      <td>3</td>\n",
       "    </tr>\n",
       "    <tr>\n",
       "      <th>3</th>\n",
       "      <td>23.68</td>\n",
       "      <td>3.31</td>\n",
       "      <td>Male</td>\n",
       "      <td>No</td>\n",
       "      <td>Sun</td>\n",
       "      <td>Dinner</td>\n",
       "      <td>2</td>\n",
       "    </tr>\n",
       "    <tr>\n",
       "      <th>4</th>\n",
       "      <td>24.59</td>\n",
       "      <td>3.61</td>\n",
       "      <td>Female</td>\n",
       "      <td>No</td>\n",
       "      <td>Sun</td>\n",
       "      <td>Dinner</td>\n",
       "      <td>4</td>\n",
       "    </tr>\n",
       "  </tbody>\n",
       "</table>\n",
       "</div>"
      ],
      "text/plain": [
       "   total_bill   tip     sex smoker  day    time  size\n",
       "0       16.99  1.01  Female     No  Sun  Dinner     2\n",
       "1       10.34  1.66    Male     No  Sun  Dinner     3\n",
       "2       21.01  3.50    Male     No  Sun  Dinner     3\n",
       "3       23.68  3.31    Male     No  Sun  Dinner     2\n",
       "4       24.59  3.61  Female     No  Sun  Dinner     4"
      ]
     },
     "execution_count": 11,
     "metadata": {},
     "output_type": "execute_result"
    }
   ],
   "source": [
    "tips = sns.load_dataset(\"tips\")\n",
    "tips.head()"
   ]
  },
  {
   "cell_type": "markdown",
   "metadata": {
    "id": "QvRA-_Ogj9Z2"
   },
   "source": [
    "## <p style=\"background-color:#9d4f8c; font-family:newtimeroman; color:#FFF9ED; font-size:150%; text-align:CENTER; border-radius:10px 10px;\">COUNTPLOT</p>\n",
    "\n",
    "<a id=\"1\"></a>\n",
    "<a href=\"#toc\" class=\"btn btn-primary btn-sm\" role=\"button\" aria-pressed=\"true\" \n",
    "style=\"color:blue; background-color:#dfa8e4\" data-toggle=\"popover\">Content</a>\n",
    "\n",
    "A simple plot, it merely shows the total count of rows per category. "
   ]
  },
  {
   "cell_type": "code",
   "execution_count": null,
   "metadata": {},
   "outputs": [],
   "source": []
  },
  {
   "cell_type": "markdown",
   "metadata": {},
   "source": [
    "countplot: kategoriye göre kayıt sayısını (observation sayısı) çizer."
   ]
  },
  {
   "cell_type": "code",
   "execution_count": null,
   "metadata": {},
   "outputs": [],
   "source": []
  },
  {
   "cell_type": "code",
   "execution_count": 12,
   "metadata": {},
   "outputs": [
    {
     "data": {
      "text/plain": [
       "Sat     87\n",
       "Sun     76\n",
       "Thur    62\n",
       "Fri     19\n",
       "Name: day, dtype: int64"
      ]
     },
     "execution_count": 12,
     "metadata": {},
     "output_type": "execute_result"
    }
   ],
   "source": [
    "tips[\"day\"].value_counts()"
   ]
  },
  {
   "cell_type": "code",
   "execution_count": 13,
   "metadata": {
    "colab": {
     "base_uri": "https://localhost:8080/"
    },
    "executionInfo": {
     "elapsed": 19,
     "status": "ok",
     "timestamp": 1653064279025,
     "user": {
      "displayName": "Michael Gd",
      "userId": "11180041065344820766"
     },
     "user_tz": -180
    },
    "id": "QRZA4PBnkY6u",
    "outputId": "2fdf92d2-83c6-435b-a9ce-7f6ca5335b44"
   },
   "outputs": [],
   "source": [
    "\n",
    "# sns.countplot(x=\"day\",data = tips);"
   ]
  },
  {
   "cell_type": "code",
   "execution_count": 22,
   "metadata": {
    "colab": {
     "base_uri": "https://localhost:8080/",
     "height": 497
    },
    "executionInfo": {
     "elapsed": 16,
     "status": "ok",
     "timestamp": 1653064279026,
     "user": {
      "displayName": "Michael Gd",
      "userId": "11180041065344820766"
     },
     "user_tz": -180
    },
    "id": "-qJJisgvjx6Y",
    "outputId": "cbaf6bad-ba3e-487a-b66e-e9676d315eb6"
   },
   "outputs": [
    {
     "data": {
      "image/png": "[encoded data removed]",
      "text/plain": [
       "<Figure size 432x288 with 1 Axes>"
      ]
     },
     "metadata": {
      "needs_background": "light"
     },
     "output_type": "display_data"
    }
   ],
   "source": [
    "fig, ax = plt.subplots()\n",
    "ax = sns.countplot(x=\"day\",data = tips);\n",
    "# print(ax.patches[2].get_height())\n",
    "\n",
    "for p in ax.patches:\n",
    "    ax.annotate(round(p.get_height()),\n",
    "               (p.get_x()+0.35, p.get_height()+1),\n",
    "               color = \"red\",\n",
    "               size =13)"
   ]
  },
  {
   "cell_type": "markdown",
   "metadata": {
    "id": "Jq_H7-7FZqdJ"
   },
   "source": [
    "**How to annotate?**\n",
    "\n",
    "[SOURCE](https://matplotlib.org/stable/api/_as_gen/matplotlib.axes.Axes.annotate.html)"
   ]
  },
  {
   "cell_type": "code",
   "execution_count": null,
   "metadata": {
    "colab": {
     "base_uri": "https://localhost:8080/",
     "height": 279
    },
    "executionInfo": {
     "elapsed": 1014,
     "status": "ok",
     "timestamp": 1653064280026,
     "user": {
      "displayName": "Michael Gd",
      "userId": "11180041065344820766"
     },
     "user_tz": -180
    },
    "id": "tN1Wmq8SkE8-",
    "outputId": "550a8848-5200-4f88-fc9a-99cf7037148b"
   },
   "outputs": [],
   "source": []
  },
  {
   "cell_type": "code",
   "execution_count": null,
   "metadata": {
    "colab": {
     "base_uri": "https://localhost:8080/",
     "height": 279
    },
    "executionInfo": {
     "elapsed": 17,
     "status": "ok",
     "timestamp": 1653064280028,
     "user": {
      "displayName": "Michael Gd",
      "userId": "11180041065344820766"
     },
     "user_tz": -180
    },
    "id": "78H8J4efZqdQ",
    "outputId": "a53db9ad-4006-4df6-f6e7-f18d66efa01e"
   },
   "outputs": [],
   "source": []
  },
  {
   "cell_type": "markdown",
   "metadata": {
    "id": "DIQrxlq5ZqdR"
   },
   "source": [
    "### <p style=\"background-color:#9d4f8c; font-family:newtimeroman; color:#FFF9ED; font-size:150%; text-align:left; border-radius:10px 10px;\">\"hue\" Parameter</p>\n",
    "\n",
    "<a id=\"1.1\"></a>\n",
    "<a href=\"#toc\" class=\"btn btn-primary btn-sm\" role=\"button\" aria-pressed=\"true\" \n",
    "style=\"color:blue; background-color:#dfa8e4\" data-toggle=\"popover\">Content</a>"
   ]
  },
  {
   "cell_type": "code",
   "execution_count": 21,
   "metadata": {
    "colab": {
     "base_uri": "https://localhost:8080/",
     "height": 279
    },
    "executionInfo": {
     "elapsed": 955,
     "status": "ok",
     "timestamp": 1653064280972,
     "user": {
      "displayName": "Michael Gd",
      "userId": "11180041065344820766"
     },
     "user_tz": -180
    },
    "id": "QWycyfABj4oA",
    "outputId": "7fafc7a3-89a5-436a-f0de-6f800e763b93"
   },
   "outputs": [
    {
     "data": {
      "image/png": "[encoded data removed]",
      "text/plain": [
       "<Figure size 432x288 with 1 Axes>"
      ]
     },
     "metadata": {
      "needs_background": "light"
     },
     "output_type": "display_data"
    }
   ],
   "source": [
    "fig, ax = plt.subplots()\n",
    "ax = sns.countplot(x=\"day\",data = tips, hue=\"sex\");\n",
    "# print(ax.patches[2].get_height())\n",
    "\n",
    "for p in ax.patches:\n",
    "    ax.annotate(round(p.get_height()),\n",
    "               (p.get_x()+0.35, p.get_height()+1),\n",
    "               color = \"red\",\n",
    "               size =13)"
   ]
  },
  {
   "cell_type": "code",
   "execution_count": null,
   "metadata": {},
   "outputs": [],
   "source": []
  },
  {
   "cell_type": "markdown",
   "metadata": {
    "id": "QDDPXKTKXrNo"
   },
   "source": [
    "#### <p style=\"background-color:#9d4f8c; font-family:newtimeroman; color:#FFF9ED; font-size:150%; text-align:left; border-radius:10px 10px;\">Extra Information</p>\n",
    "\n",
    "<a id=\"1.2\"></a>\n",
    "<a href=\"#toc\" class=\"btn btn-primary btn-sm\" role=\"button\" aria-pressed=\"true\" \n",
    "style=\"color:blue; background-color:#dfa8e4\" data-toggle=\"popover\">Content</a>"
   ]
  },
  {
   "cell_type": "code",
   "execution_count": 25,
   "metadata": {
    "colab": {
     "base_uri": "https://localhost:8080/",
     "height": 280
    },
    "executionInfo": {
     "elapsed": 488,
     "status": "ok",
     "timestamp": 1653064284543,
     "user": {
      "displayName": "Michael Gd",
      "userId": "11180041065344820766"
     },
     "user_tz": -180
    },
    "id": "nGBZaajnXpif",
    "outputId": "168abb7f-d3ce-4875-881a-e28314877a5f"
   },
   "outputs": [
    {
     "data": {
      "image/png": "[encoded data removed]",
      "text/plain": [
       "<Figure size 432x288 with 1 Axes>"
      ]
     },
     "metadata": {
      "needs_background": "light"
     },
     "output_type": "display_data"
    }
   ],
   "source": [
    "fig, ax = plt.subplots()\n",
    "ax = sns.countplot(x='day', data=tips, hue=\"sex\")\n",
    "\n",
    "for p in ax.patches:\n",
    "    ax.annotate(p.get_height(),\n",
    "                (p.get_x()+0.16, p.get_height()+1),\n",
    "                size=12)\n",
    "    \n",
    "    ax.text(p.get_x()+0.13, p.get_height()-3, \"% \"+str(round(100*p.get_height()/tips.day.count(),1)), color=\"white\")\n",
    "    "
   ]
  },
  {
   "cell_type": "code",
   "execution_count": null,
   "metadata": {
    "colab": {
     "base_uri": "https://localhost:8080/",
     "height": 279
    },
    "executionInfo": {
     "elapsed": 492,
     "status": "ok",
     "timestamp": 1653064290324,
     "user": {
      "displayName": "Michael Gd",
      "userId": "11180041065344820766"
     },
     "user_tz": -180
    },
    "id": "fKm4rfMPkzZQ",
    "outputId": "c06408dc-2923-4135-a7f7-86717788c437"
   },
   "outputs": [],
   "source": []
  },
  {
   "cell_type": "code",
   "execution_count": null,
   "metadata": {
    "colab": {
     "base_uri": "https://localhost:8080/",
     "height": 280
    },
    "executionInfo": {
     "elapsed": 11,
     "status": "ok",
     "timestamp": 1653064290325,
     "user": {
      "displayName": "Michael Gd",
      "userId": "11180041065344820766"
     },
     "user_tz": -180
    },
    "id": "5-UYvxbJlL0Z",
    "outputId": "ee339c1d-b09d-4482-dc0d-311cd0634d3c"
   },
   "outputs": [],
   "source": []
  },
  {
   "cell_type": "code",
   "execution_count": null,
   "metadata": {
    "colab": {
     "base_uri": "https://localhost:8080/",
     "height": 279
    },
    "executionInfo": {
     "elapsed": 549,
     "status": "ok",
     "timestamp": 1653064293286,
     "user": {
      "displayName": "Michael Gd",
      "userId": "11180041065344820766"
     },
     "user_tz": -180
    },
    "id": "zxl1PbNalXEJ",
    "outputId": "74b799f0-6c58-446c-eaa4-9aa60ed8f583"
   },
   "outputs": [],
   "source": []
  },
  {
   "cell_type": "code",
   "execution_count": null,
   "metadata": {
    "colab": {
     "base_uri": "https://localhost:8080/",
     "height": 281
    },
    "executionInfo": {
     "elapsed": 934,
     "status": "ok",
     "timestamp": 1653064294520,
     "user": {
      "displayName": "Michael Gd",
      "userId": "11180041065344820766"
     },
     "user_tz": -180
    },
    "id": "Ln-7Coc2lZYh",
    "outputId": "3c70aed4-282b-4837-c121-20cf85c9ed83"
   },
   "outputs": [],
   "source": []
  },
  {
   "cell_type": "markdown",
   "metadata": {
    "id": "Y2wC6GuzmCQ3"
   },
   "source": [
    "## <p style=\"background-color:#9d4f8c; font-family:newtimeroman; color:#FFF9ED; font-size:150%; text-align:CENTER; border-radius:10px 10px;\">BARPLOT</p>\n",
    "\n",
    "<a id=\"2\"></a>\n",
    "<a href=\"#toc\" class=\"btn btn-primary btn-sm\" role=\"button\" aria-pressed=\"true\" \n",
    "style=\"color:blue; background-color:#dfa8e4\" data-toggle=\"popover\">Content</a>\n",
    "\n",
    "So far we've seen the y axis default to a count (similar to a .groupby(x_axis).count() call in pandas). We can expand our visualizations by specifying a specific continuous feature for the y-axis. Keep in mind, you should be careful with these plots, as they may imply a relationship continuity along the y axis where there is none"
   ]
  },
  {
   "cell_type": "code",
   "execution_count": null,
   "metadata": {
    "colab": {
     "base_uri": "https://localhost:8080/",
     "height": 279
    },
    "executionInfo": {
     "elapsed": 418,
     "status": "ok",
     "timestamp": 1653064299100,
     "user": {
      "displayName": "Michael Gd",
      "userId": "11180041065344820766"
     },
     "user_tz": -180
    },
    "id": "lTDUmNjvlefY",
    "outputId": "a1f2049d-49ef-476c-e212-0e3f3d956280"
   },
   "outputs": [],
   "source": []
  },
  {
   "cell_type": "markdown",
   "metadata": {
    "colab": {
     "base_uri": "https://localhost:8080/",
     "height": 279
    },
    "executionInfo": {
     "elapsed": 752,
     "status": "ok",
     "timestamp": 1653064299848,
     "user": {
      "displayName": "Michael Gd",
      "userId": "11180041065344820766"
     },
     "user_tz": -180
    },
    "id": "m-KTMp8xZqdg",
    "outputId": "f974a379-8b46-4dcd-cbc7-267dbf6f4140"
   },
   "source": [
    "barplot: her kategori için bir değer veya metrik çizer. Default olarak mean değerini çizer. (feature'ın her bir kategorisinin ortalama değerlerini gösterir)"
   ]
  },
  {
   "cell_type": "code",
   "execution_count": null,
   "metadata": {},
   "outputs": [],
   "source": []
  },
  {
   "cell_type": "markdown",
   "metadata": {
    "id": "W1YD6dSJZqdg"
   },
   "source": [
    "### <p style=\"background-color:#9d4f8c; font-family:newtimeroman; color:#FFF9ED; font-size:150%; text-align:left; border-radius:10px 10px;\">\"errorbar\" Parameter</p>\n",
    "\n",
    "<a id=\"2.1\"></a>\n",
    "<a href=\"#toc\" class=\"btn btn-primary btn-sm\" role=\"button\" aria-pressed=\"true\" \n",
    "style=\"color:blue; background-color:#dfa8e4\" data-toggle=\"popover\">Content</a>"
   ]
  },
  {
   "cell_type": "code",
   "execution_count": null,
   "metadata": {
    "colab": {
     "base_uri": "https://localhost:8080/",
     "height": 279
    },
    "executionInfo": {
     "elapsed": 329,
     "status": "ok",
     "timestamp": 1653064328320,
     "user": {
      "displayName": "Michael Gd",
      "userId": "11180041065344820766"
     },
     "user_tz": -180
    },
    "id": "ETv4MQsbmNVw",
    "outputId": "a1f8f5cb-4f4c-49d1-e08b-2c34f1169895"
   },
   "outputs": [],
   "source": []
  },
  {
   "cell_type": "markdown",
   "metadata": {
    "id": "nhi7nBRyZqdi"
   },
   "source": [
    "**Correlation Between Height and Weight**<br>\n",
    "At the beginning of the Spring 2017 semester a sample of World Campus students were surveyed and asked for their height and weight. In the sample, Pearson's r = 0.487. A 95% confidence interval was computed of [0.410, 0.559].\n",
    "\n",
    "The correct interpretation of this confidence interval is that we are 95% confident that the correlation between height and weight in the population of all World Campus students is between 0.410 and 0.559."
   ]
  },
  {
   "cell_type": "code",
   "execution_count": null,
   "metadata": {
    "colab": {
     "base_uri": "https://localhost:8080/",
     "height": 279
    },
    "executionInfo": {
     "elapsed": 293,
     "status": "ok",
     "timestamp": 1653064339133,
     "user": {
      "displayName": "Michael Gd",
      "userId": "11180041065344820766"
     },
     "user_tz": -180
    },
    "id": "xOUrn8-SZqdk",
    "outputId": "f5890281-409a-4656-91f9-4788413f77c5"
   },
   "outputs": [],
   "source": []
  },
  {
   "cell_type": "markdown",
   "metadata": {
    "colab": {
     "base_uri": "https://localhost:8080/",
     "height": 279
    },
    "executionInfo": {
     "elapsed": 314,
     "status": "ok",
     "timestamp": 1653064336870,
     "user": {
      "displayName": "Michael Gd",
      "userId": "11180041065344820766"
     },
     "user_tz": -180
    },
    "id": "I7MtzEJNZqdj",
    "outputId": "c09fb4cc-ee89-4e83-f31b-ee28abfed839"
   },
   "source": [
    "Güven aralığı (Ci) değerini azalttıkça çubuk küçülecek, arttırdıkça çubuk büyüyecektir. Çünkü bir ortalamayı daha büyük bir doğrulukla tutturabilmeniz için tahminlerinizin daha büyük bir aralıkta olması gerekir.\n",
    "Başka bir deyişle; verinin ortalama değeri şu ile şu değerler arasındadır dediğinde bu ifadenin doğruluğunun daha yüksek olması (hata payının daha küçük olması) için o aralık değerini büyük tutmak gerekir. Aralık azalttıkça doğruluk oranı da tabi ki azalacaktır!!."
   ]
  },
  {
   "cell_type": "code",
   "execution_count": null,
   "metadata": {
    "colab": {
     "base_uri": "https://localhost:8080/",
     "height": 279
    },
    "executionInfo": {
     "elapsed": 329,
     "status": "ok",
     "timestamp": 1653064515045,
     "user": {
      "displayName": "Michael Gd",
      "userId": "11180041065344820766"
     },
     "user_tz": -180
    },
    "id": "22KHJOnEmSEA",
    "outputId": "0c220489-73a5-4dcd-8cc8-a6e5d2bfc3d0"
   },
   "outputs": [],
   "source": []
  },
  {
   "cell_type": "code",
   "execution_count": null,
   "metadata": {
    "colab": {
     "base_uri": "https://localhost:8080/",
     "height": 279
    },
    "executionInfo": {
     "elapsed": 796,
     "status": "ok",
     "timestamp": 1653064519296,
     "user": {
      "displayName": "Michael Gd",
      "userId": "11180041065344820766"
     },
     "user_tz": -180
    },
    "id": "Q7oPEzYEvXgn",
    "outputId": "d9e28fb0-630b-4be0-bb21-f1fb1cff0dc4"
   },
   "outputs": [],
   "source": []
  },
  {
   "cell_type": "code",
   "execution_count": null,
   "metadata": {
    "colab": {
     "base_uri": "https://localhost:8080/",
     "height": 279
    },
    "executionInfo": {
     "elapsed": 1109,
     "status": "ok",
     "timestamp": 1653064522928,
     "user": {
      "displayName": "Michael Gd",
      "userId": "11180041065344820766"
     },
     "user_tz": -180
    },
    "id": "95UfOWMRvPXj",
    "outputId": "de3fc0ae-2eb5-4d66-a6a9-b654e664f6e7"
   },
   "outputs": [],
   "source": []
  },
  {
   "cell_type": "markdown",
   "metadata": {
    "id": "TNsXN_i9ir7z"
   },
   "source": [
    "### <p style=\"background-color:#9d4f8c; font-family:newtimeroman; color:#FFF9ED; font-size:150%; text-align:left; border-radius:10px 10px;\">\"estimator\" Parameter</p>\n",
    "\n",
    "<a id=\"2.2\"></a>\n",
    "<a href=\"#toc\" class=\"btn btn-primary btn-sm\" role=\"button\" aria-pressed=\"true\" \n",
    "style=\"color:blue; background-color:#dfa8e4\" data-toggle=\"popover\">Content</a>\n",
    "\n",
    "\"estimator\" params (np.mean, np.median, np.sum, np,maz, np.min, np.count_nonzero)"
   ]
  },
  {
   "cell_type": "code",
   "execution_count": null,
   "metadata": {
    "colab": {
     "base_uri": "https://localhost:8080/",
     "height": 279
    },
    "executionInfo": {
     "elapsed": 321,
     "status": "ok",
     "timestamp": 1653064917163,
     "user": {
      "displayName": "Michael Gd",
      "userId": "11180041065344820766"
     },
     "user_tz": -180
    },
    "id": "ItaD1h7EZqdn",
    "outputId": "3f1fa4f8-5a41-44b6-c23d-1aacbd1ef018"
   },
   "outputs": [],
   "source": []
  },
  {
   "cell_type": "code",
   "execution_count": null,
   "metadata": {
    "colab": {
     "base_uri": "https://localhost:8080/",
     "height": 279
    },
    "executionInfo": {
     "elapsed": 535,
     "status": "ok",
     "timestamp": 1653064921629,
     "user": {
      "displayName": "Michael Gd",
      "userId": "11180041065344820766"
     },
     "user_tz": -180
    },
    "id": "HkN0xxyZpDj_",
    "outputId": "b1d4b18b-3926-4d81-ae76-17e72dfa3ebc"
   },
   "outputs": [],
   "source": []
  },
  {
   "cell_type": "code",
   "execution_count": null,
   "metadata": {
    "colab": {
     "base_uri": "https://localhost:8080/"
    },
    "executionInfo": {
     "elapsed": 265,
     "status": "ok",
     "timestamp": 1653064927941,
     "user": {
      "displayName": "Michael Gd",
      "userId": "11180041065344820766"
     },
     "user_tz": -180
    },
    "id": "ISXhlHFEZqdp",
    "outputId": "644b6cc2-5d7b-4f9a-c21f-15552d49579e"
   },
   "outputs": [],
   "source": []
  },
  {
   "cell_type": "code",
   "execution_count": null,
   "metadata": {
    "colab": {
     "base_uri": "https://localhost:8080/",
     "height": 497
    },
    "executionInfo": {
     "elapsed": 867,
     "status": "ok",
     "timestamp": 1653065090097,
     "user": {
      "displayName": "Michael Gd",
      "userId": "11180041065344820766"
     },
     "user_tz": -180
    },
    "id": "ZH3GNfpDZqdr",
    "outputId": "08082de5-eb7f-463c-acef-dc9711c5c988"
   },
   "outputs": [],
   "source": []
  },
  {
   "cell_type": "markdown",
   "metadata": {
    "id": "yTWau-g_jGvD"
   },
   "source": [
    "**diferences betwen barplot and count plot**"
   ]
  },
  {
   "cell_type": "code",
   "execution_count": null,
   "metadata": {
    "colab": {
     "base_uri": "https://localhost:8080/",
     "height": 297
    },
    "executionInfo": {
     "elapsed": 849,
     "status": "ok",
     "timestamp": 1653065085104,
     "user": {
      "displayName": "Michael Gd",
      "userId": "11180041065344820766"
     },
     "user_tz": -180
    },
    "id": "90P_UVzsjGcO",
    "outputId": "6b6aa8d3-d323-4208-abb0-e48f99cb318e",
    "scrolled": false
   },
   "outputs": [],
   "source": []
  },
  {
   "cell_type": "code",
   "execution_count": null,
   "metadata": {
    "colab": {
     "base_uri": "https://localhost:8080/",
     "height": 297
    },
    "executionInfo": {
     "elapsed": 835,
     "status": "ok",
     "timestamp": 1653065097194,
     "user": {
      "displayName": "Michael Gd",
      "userId": "11180041065344820766"
     },
     "user_tz": -180
    },
    "id": "ZG5RWeYDio0L",
    "outputId": "2c61d88d-950d-4fd9-9efb-d8a56609387f"
   },
   "outputs": [],
   "source": []
  },
  {
   "cell_type": "markdown",
   "metadata": {
    "id": "eNT75n7fqBIO"
   },
   "source": [
    "## <p style=\"background-color:#9d4f8c; font-family:newtimeroman; color:#FFF9ED; font-size:150%; text-align:CENTER; border-radius:10px 10px;\">BOXPLOT</p>\n",
    "\n",
    "<a id=\"3\"></a>\n",
    "<a href=\"#toc\" class=\"btn btn-primary btn-sm\" role=\"button\" aria-pressed=\"true\" \n",
    "style=\"color:blue; background-color:#dfa8e4\" data-toggle=\"popover\">Content</a>\n",
    "\n",
    "[SOURCE 01](https://www.khanacademy.org/math/cc-sixth-grade-math/cc-6th-data-statistics/cc-6th-box-whisker-plots/v/constructing-a-box-and-whisker-plot) & [SOURCE 02](https://towardsdatascience.com/understanding-boxplots-5e2df7bcbd51)\n",
    "\n",
    "As described in the videos, a boxplot display distribution through the use of quartiles and an IQR for outliers."
   ]
  },
  {
   "cell_type": "code",
   "execution_count": null,
   "metadata": {
    "colab": {
     "base_uri": "https://localhost:8080/",
     "height": 279
    },
    "executionInfo": {
     "elapsed": 1246,
     "status": "ok",
     "timestamp": 1653065280825,
     "user": {
      "displayName": "Michael Gd",
      "userId": "11180041065344820766"
     },
     "user_tz": -180
    },
    "id": "uIYi5LdivcmF",
    "outputId": "14ade927-15d9-4b17-9fce-b6c4284c1624"
   },
   "outputs": [],
   "source": []
  },
  {
   "cell_type": "code",
   "execution_count": null,
   "metadata": {
    "colab": {
     "base_uri": "https://localhost:8080/",
     "height": 335
    },
    "executionInfo": {
     "elapsed": 1034,
     "status": "ok",
     "timestamp": 1653065336284,
     "user": {
      "displayName": "Michael Gd",
      "userId": "11180041065344820766"
     },
     "user_tz": -180
    },
    "id": "AJjIdqetnKlO",
    "outputId": "f4d879f1-3db2-48b9-95c9-739a1fb7ec74"
   },
   "outputs": [],
   "source": []
  },
  {
   "cell_type": "markdown",
   "metadata": {
    "id": "XihkJHr3Zqd0"
   },
   "source": [
    "### <p style=\"background-color:#9d4f8c; font-family:newtimeroman; color:#FFF9ED; font-size:150%; text-align:LEFT; border-radius:10px 10px;\">\"width\" Parameter</p>\n",
    "\n",
    "<a id=\"3.1\"></a>\n",
    "<a href=\"#toc\" class=\"btn btn-primary btn-sm\" role=\"button\" aria-pressed=\"true\" \n",
    "style=\"color:blue; background-color:#dfa8e4\" data-toggle=\"popover\">Content</a>"
   ]
  },
  {
   "cell_type": "code",
   "execution_count": null,
   "metadata": {
    "colab": {
     "base_uri": "https://localhost:8080/",
     "height": 334
    },
    "executionInfo": {
     "elapsed": 5,
     "status": "ok",
     "timestamp": 1653065794822,
     "user": {
      "displayName": "Michael Gd",
      "userId": "11180041065344820766"
     },
     "user_tz": -180
    },
    "id": "kCBapQx8n-XB",
    "outputId": "2d16a3a9-4e6d-4d7e-f1cb-09aee659f72d"
   },
   "outputs": [],
   "source": []
  },
  {
   "cell_type": "markdown",
   "metadata": {
    "id": "Bfb-93A2nb9w"
   },
   "source": [
    "### <p style=\"background-color:#9d4f8c; font-family:newtimeroman; color:#FFF9ED; font-size:150%; text-align:left; border-radius:10px 10px;\">Optional Boxplot Examples</p>\n",
    "\n",
    "<a id=\"3.2\"></a>\n",
    "<a href=\"#toc\" class=\"btn btn-primary btn-sm\" role=\"button\" aria-pressed=\"true\" \n",
    "style=\"color:blue; background-color:#dfa8e4\" data-toggle=\"popover\">Content</a>"
   ]
  },
  {
   "cell_type": "code",
   "execution_count": null,
   "metadata": {
    "colab": {
     "base_uri": "https://localhost:8080/",
     "height": 360
    },
    "executionInfo": {
     "elapsed": 6,
     "status": "error",
     "timestamp": 1653065874910,
     "user": {
      "displayName": "Michael Gd",
      "userId": "11180041065344820766"
     },
     "user_tz": -180
    },
    "id": "Yn3M_v_KvmW6",
    "outputId": "c9f11375-0dbd-487f-ccb0-668e49144bfc"
   },
   "outputs": [],
   "source": []
  },
  {
   "cell_type": "code",
   "execution_count": null,
   "metadata": {
    "colab": {
     "base_uri": "https://localhost:8080/",
     "height": 171
    },
    "executionInfo": {
     "elapsed": 338,
     "status": "error",
     "timestamp": 1653065874038,
     "user": {
      "displayName": "Michael Gd",
      "userId": "11180041065344820766"
     },
     "user_tz": -180
    },
    "id": "LwYDu5BsZqd5",
    "outputId": "798f167b-bf30-4772-acab-688c1919d2bd"
   },
   "outputs": [],
   "source": []
  },
  {
   "cell_type": "code",
   "execution_count": null,
   "metadata": {},
   "outputs": [],
   "source": []
  },
  {
   "cell_type": "code",
   "execution_count": null,
   "metadata": {
    "id": "rbT4OMT4qF9x"
   },
   "outputs": [],
   "source": []
  },
  {
   "cell_type": "code",
   "execution_count": null,
   "metadata": {
    "id": "dRCksUbGqMMR"
   },
   "outputs": [],
   "source": []
  },
  {
   "cell_type": "markdown",
   "metadata": {
    "id": "2-wQ5m2Cqttl"
   },
   "source": [
    "## <p style=\"background-color:#9d4f8c; font-family:newtimeroman; color:#FFF9ED; font-size:150%; text-align:center; border-radius:10px 10px;\">VIOLINPLOT</p>\n",
    "\n",
    "<a id=\"4\"></a>\n",
    "<a href=\"#toc\" class=\"btn btn-primary btn-sm\" role=\"button\" aria-pressed=\"true\" \n",
    "style=\"color:blue; background-color:#dfa8e4\" data-toggle=\"popover\">Content</a>\n",
    "\n",
    "A violin plot plays a similar role as a box and whisker plot. It shows the distribution of quantitative data across several levels of one (or more) categorical variables such that those distributions can be compared. Unlike a box plot, in which all of the plot components correspond to actual datapoints, the violin plot features a kernel density estimation of the underlying distribution."
   ]
  },
  {
   "cell_type": "code",
   "execution_count": null,
   "metadata": {
    "colab": {
     "base_uri": "https://localhost:8080/",
     "height": 296
    },
    "id": "0mGdBGF_wLlp",
    "outputId": "d6027fad-1178-4cb3-9b55-e940b805201e"
   },
   "outputs": [],
   "source": []
  },
  {
   "cell_type": "code",
   "execution_count": null,
   "metadata": {
    "colab": {
     "base_uri": "https://localhost:8080/",
     "height": 296
    },
    "id": "PMtlB5EAo2Sp",
    "outputId": "508b91c9-7d7e-4f40-b863-3f93b848630f"
   },
   "outputs": [],
   "source": []
  },
  {
   "cell_type": "code",
   "execution_count": null,
   "metadata": {
    "colab": {
     "base_uri": "https://localhost:8080/",
     "height": 406
    },
    "id": "DUzRdagmpM9k",
    "outputId": "a9d9e73b-275b-4e61-88b5-bceff6b97d8e"
   },
   "outputs": [],
   "source": []
  },
  {
   "cell_type": "markdown",
   "metadata": {
    "id": "2uXuuSRVqgZp"
   },
   "source": [
    "### <p style=\"background-color:#9d4f8c; font-family:newtimeroman; color:#FFF9ED; font-size:150%; text-align:left; border-radius:10px 10px;\">Optional Violinplot Example</p>\n",
    "\n",
    "<a id=\"4.1\"></a>\n",
    "<a href=\"#toc\" class=\"btn btn-primary btn-sm\" role=\"button\" aria-pressed=\"true\" \n",
    "style=\"color:blue; background-color:#dfa8e4\" data-toggle=\"popover\">Content</a>"
   ]
  },
  {
   "cell_type": "code",
   "execution_count": null,
   "metadata": {},
   "outputs": [],
   "source": []
  },
  {
   "cell_type": "code",
   "execution_count": null,
   "metadata": {
    "colab": {
     "background_save": true,
     "base_uri": "https://localhost:8080/",
     "height": 405
    },
    "id": "93GQx_wRqvRX",
    "outputId": "e7a87447-9087-45d5-9c89-2d5c1db0289e"
   },
   "outputs": [],
   "source": []
  },
  {
   "cell_type": "code",
   "execution_count": null,
   "metadata": {
    "colab": {
     "base_uri": "https://localhost:8080/",
     "height": 409
    },
    "id": "7LVoLNPorF2A",
    "outputId": "eb3d9ae2-d7b4-4862-a9aa-a50a0bf4fd2a"
   },
   "outputs": [],
   "source": []
  },
  {
   "cell_type": "markdown",
   "metadata": {
    "id": "pllFcxaarPkA"
   },
   "source": [
    "### <p style=\"background-color:#9d4f8c; font-family:newtimeroman; color:#FFF9ED; font-size:150%; text-align:left; border-radius:10px 10px;\">\"split\" Parameter</p>\n",
    "\n",
    "<a id=\"4.2\"></a>\n",
    "<a href=\"#toc\" class=\"btn btn-primary btn-sm\" role=\"button\" aria-pressed=\"true\" \n",
    "style=\"color:blue; background-color:#dfa8e4\" data-toggle=\"popover\">Content</a>\n",
    "\n",
    "When using hue nesting with a variable that takes two levels, setting split to True will draw half of a violin for each level. This can make it easier to directly compare the distributions."
   ]
  },
  {
   "cell_type": "code",
   "execution_count": null,
   "metadata": {
    "colab": {
     "base_uri": "https://localhost:8080/",
     "height": 388
    },
    "executionInfo": {
     "elapsed": 903,
     "status": "ok",
     "timestamp": 1653066157591,
     "user": {
      "displayName": "Michael Gd",
      "userId": "11180041065344820766"
     },
     "user_tz": -180
    },
    "id": "YFs04nfFo2RN",
    "outputId": "a8d1e475-605b-4c81-b956-75414e3d9b7a"
   },
   "outputs": [],
   "source": []
  },
  {
   "cell_type": "code",
   "execution_count": null,
   "metadata": {
    "colab": {
     "base_uri": "https://localhost:8080/",
     "height": 409
    },
    "id": "AohAj_BwrNfo",
    "outputId": "0c52f250-783b-4798-c880-d9eed03db603"
   },
   "outputs": [],
   "source": []
  },
  {
   "cell_type": "markdown",
   "metadata": {
    "id": "q4abk05XrflH"
   },
   "source": [
    "### <p style=\"background-color:#9d4f8c; font-family:newtimeroman; color:#FFF9ED; font-size:150%; text-align:left; border-radius:10px 10px;\">\"inner\" Parameter</p>\n",
    "\n",
    "<a id=\"4.3\"></a>\n",
    "<a href=\"#toc\" class=\"btn btn-primary btn-sm\" role=\"button\" aria-pressed=\"true\" \n",
    "style=\"color:blue; background-color:#dfa8e4\" data-toggle=\"popover\">Content</a>\n",
    "\n",
    "default: inner='box'\n",
    "\n",
    "Representation of the datapoints in the violin interior. If box, draw a miniature boxplot. If quartiles, draw the quartiles of the distribution. If point or stick, show each underlying datapoint. Using None will draw unadorned violins."
   ]
  },
  {
   "cell_type": "code",
   "execution_count": null,
   "metadata": {
    "colab": {
     "base_uri": "https://localhost:8080/",
     "height": 405
    },
    "id": "75_IG6vvo2Nj",
    "outputId": "1ed7c0eb-5dc2-40bb-c63e-26180c098004"
   },
   "outputs": [],
   "source": []
  },
  {
   "cell_type": "code",
   "execution_count": null,
   "metadata": {
    "colab": {
     "base_uri": "https://localhost:8080/",
     "height": 405
    },
    "id": "Wg0KdJJto2K4",
    "outputId": "0548ba34-041e-4f3f-c137-6cdc919024a8"
   },
   "outputs": [],
   "source": []
  },
  {
   "cell_type": "code",
   "execution_count": null,
   "metadata": {},
   "outputs": [],
   "source": []
  },
  {
   "cell_type": "markdown",
   "metadata": {
    "id": "jOtM2Oy-sdxn"
   },
   "source": [
    "### <p style=\"background-color:#9d4f8c; font-family:newtimeroman; color:#FFF9ED; font-size:150%; text-align:left; border-radius:10px 10px;\">\"bandwidth\" Parameter</p>\n",
    "\n",
    "<a id=\"4.4\"></a>\n",
    "<a href=\"#toc\" class=\"btn btn-primary btn-sm\" role=\"button\" aria-pressed=\"true\" \n",
    "style=\"color:blue; background-color:#dfa8e4\" data-toggle=\"popover\">Content</a>\n",
    "\n",
    "Similar to bandwidth argument for kdeplot"
   ]
  },
  {
   "cell_type": "code",
   "execution_count": null,
   "metadata": {
    "colab": {
     "base_uri": "https://localhost:8080/",
     "height": 388
    },
    "executionInfo": {
     "elapsed": 1012,
     "status": "ok",
     "timestamp": 1653066416506,
     "user": {
      "displayName": "Michael Gd",
      "userId": "11180041065344820766"
     },
     "user_tz": -180
    },
    "id": "76Y4SGRrpM8H",
    "outputId": "31b60473-475c-4402-eb6b-b573984d9ae9"
   },
   "outputs": [],
   "source": []
  },
  {
   "cell_type": "code",
   "execution_count": null,
   "metadata": {
    "colab": {
     "base_uri": "https://localhost:8080/",
     "height": 405
    },
    "id": "SNAmqYi1sVFI",
    "outputId": "25d8371a-fde6-4b1d-9309-82992e5d233d"
   },
   "outputs": [],
   "source": []
  },
  {
   "cell_type": "markdown",
   "metadata": {
    "id": "hxyIRMfKt3Io"
   },
   "source": [
    "## <p style=\"background-color:#9d4f8c; font-family:newtimeroman; color:#FFF9ED; font-size:150%; text-align:center; border-radius:10px 10px;\">SWARMPLOT</p>\n",
    "\n",
    "<a id=\"5\"></a>\n",
    "<a href=\"#toc\" class=\"btn btn-primary btn-sm\" role=\"button\" aria-pressed=\"true\" \n",
    "style=\"color:blue; background-color:#dfa8e4\" data-toggle=\"popover\">Content</a>"
   ]
  },
  {
   "cell_type": "code",
   "execution_count": null,
   "metadata": {
    "colab": {
     "base_uri": "https://localhost:8080/",
     "height": 297
    },
    "id": "52YyDWwcEmlV",
    "outputId": "06b8c089-8b6b-490a-c6bd-5d3c43118b0a"
   },
   "outputs": [],
   "source": []
  },
  {
   "cell_type": "code",
   "execution_count": null,
   "metadata": {
    "colab": {
     "base_uri": "https://localhost:8080/",
     "height": 297
    },
    "id": "pUC7T4cdEmia",
    "outputId": "bfcd3808-3cd2-4720-e919-4e036bf8ffa9"
   },
   "outputs": [],
   "source": []
  },
  {
   "cell_type": "code",
   "execution_count": null,
   "metadata": {
    "colab": {
     "base_uri": "https://localhost:8080/",
     "height": 297
    },
    "id": "y0iHqxjUEmfe",
    "outputId": "bb39f31a-f21f-4a72-ce2b-c62c5180bc05"
   },
   "outputs": [],
   "source": []
  },
  {
   "cell_type": "markdown",
   "metadata": {},
   "source": [
    "### <p style=\"background-color:#9d4f8c; font-family:newtimeroman; color:#FFF9ED; font-size:150%; text-align:left; border-radius:10px 10px;\">Optional Swarmplot Example</p>\n",
    "\n",
    "<a id=\"5.1\"></a>\n",
    "<a href=\"#toc\" class=\"btn btn-primary btn-sm\" role=\"button\" aria-pressed=\"true\" \n",
    "style=\"color:blue; background-color:#dfa8e4\" data-toggle=\"popover\">Content</a>"
   ]
  },
  {
   "cell_type": "code",
   "execution_count": null,
   "metadata": {},
   "outputs": [],
   "source": []
  },
  {
   "cell_type": "code",
   "execution_count": null,
   "metadata": {},
   "outputs": [],
   "source": []
  },
  {
   "cell_type": "code",
   "execution_count": null,
   "metadata": {},
   "outputs": [],
   "source": []
  },
  {
   "cell_type": "markdown",
   "metadata": {
    "id": "ZLp_zK7_Zqeo"
   },
   "source": [
    "### <p style=\"background-color:#9d4f8c; font-family:newtimeroman; color:#FFF9ED; font-size:150%; text-align:left; border-radius:10px 10px;\">\"dodge\" Parameter</p>\n",
    "\n",
    "<a id=\"5.2\"></a>\n",
    "<a href=\"#toc\" class=\"btn btn-primary btn-sm\" role=\"button\" aria-pressed=\"true\" \n",
    "style=\"color:blue; background-color:#dfa8e4\" data-toggle=\"popover\">Content</a>"
   ]
  },
  {
   "cell_type": "code",
   "execution_count": null,
   "metadata": {},
   "outputs": [],
   "source": []
  },
  {
   "cell_type": "code",
   "execution_count": null,
   "metadata": {
    "colab": {
     "base_uri": "https://localhost:8080/",
     "height": 405
    },
    "id": "LEgK5wKnuY1g",
    "outputId": "22f9bb58-0a21-4336-f293-3d79dc04b8d3"
   },
   "outputs": [],
   "source": []
  },
  {
   "cell_type": "markdown",
   "metadata": {
    "id": "LqVBYJAJuen_"
   },
   "source": [
    "## <p style=\"background-color:#9d4f8c; font-family:newtimeroman; color:#FFF9ED; font-size:150%; text-align:CENTER; border-radius:10px 10px;\">BOXENPLOT (LETTER-VALUE PLOT)</p>\n",
    "\n",
    "<a id=\"6\"></a>\n",
    "<a href=\"#toc\" class=\"btn btn-primary btn-sm\" role=\"button\" aria-pressed=\"true\" \n",
    "style=\"color:blue; background-color:#dfa8e4\" data-toggle=\"popover\">Content</a>\n",
    "\n",
    "Official Paper on this plot: [Official Paper](https://vita.had.co.nz/papers/letter-value-plot.html)\n",
    "\n",
    "This style of plot was originally named a “letter value” plot because it shows a large number of quantiles that are defined as “letter values”. It is similar to a box plot in plotting a nonparametric representation of a distribution in which all features correspond to actual observations. By plotting more quantiles, it provides more information about the shape of the distribution, particularly in the tails."
   ]
  },
  {
   "cell_type": "code",
   "execution_count": null,
   "metadata": {},
   "outputs": [],
   "source": []
  },
  {
   "cell_type": "code",
   "execution_count": null,
   "metadata": {
    "id": "5SqUJVLzZqeq",
    "outputId": "77263c68-d424-4317-bfbf-3b00552f720b"
   },
   "outputs": [],
   "source": []
  },
  {
   "cell_type": "code",
   "execution_count": null,
   "metadata": {
    "colab": {
     "base_uri": "https://localhost:8080/",
     "height": 296
    },
    "id": "_t5iUtg_uayP",
    "outputId": "2efb04ae-3186-4e93-fac3-da83a14c9024"
   },
   "outputs": [],
   "source": []
  },
  {
   "cell_type": "code",
   "execution_count": null,
   "metadata": {
    "colab": {
     "base_uri": "https://localhost:8080/",
     "height": 296
    },
    "id": "WK10NWs1uk3g",
    "outputId": "01ad6453-c662-44a4-a47d-697c87551089"
   },
   "outputs": [],
   "source": []
  },
  {
   "cell_type": "code",
   "execution_count": null,
   "metadata": {
    "colab": {
     "base_uri": "https://localhost:8080/",
     "height": 405
    },
    "id": "0nnHek6_umkv",
    "outputId": "765a8ffb-f2e6-4447-97ab-02678c99d5c0"
   },
   "outputs": [],
   "source": []
  },
  {
   "cell_type": "markdown",
   "metadata": {
    "id": "gZzYLFv3uoFA"
   },
   "source": [
    "The box plot shows the median as the centerline (50th percentile), then the 25th and 75th percentile as the box boundaries. Then the IQR method is used to calculate outlier boundaries (1.5 * IQR + Q3 for the upper boundary, for example). Q3 is the 3rd quartile, or 75th percentile of the data (75% of the data is below this value). Outliers outside of the outlier whiskers are shown as distinct points.\n",
    "\n",
    "Boxenplots (actually called letter-value plots in the original paper and in the lvplot R package) show the distribution differently and are better for bigger datasets. Classic boxplots can have too many outliers and don't show as much information about the distribution. Letter-value plots (boxenplots) start with the median (Q2, 50th percentile) as the centerline. Each successive level outward contains half of the remaining data. So the first two sections out from the centerline contain 50% of the data. After that, the next two sections contain 25% of the data. This continues until we are at the outlier level. Each level out is shaded lighter. There are 4 methods for calculating outliers (described in the paper and available in seaborn). The default is to end up with around 5-8 outliers in each tail.\n",
    "\n",
    "![Capture13.PNG](https://i.ibb.co/YfpTDg9/Capture13.png)\n",
    "\n",
    "[SOURCE 01](https://vita.had.co.nz/papers/letter-value-plot.html) & [SOURCE 02](https://stackoverflow.com/questions/52403381/how-boxen-plot-is-different-from-box-plot)"
   ]
  },
  {
   "cell_type": "markdown",
   "metadata": {
    "id": "U7N9-CSeHCDr"
   },
   "source": [
    "## <p style=\"background-color:#9d4f8c; font-family:newtimeroman; color:#FFF9ED; font-size:150%; text-align:CENTER; border-radius:10px 10px;\">LINEPLOT</p>\n",
    "\n",
    "<a id=\"7\"></a>\n",
    "<a href=\"#toc\" class=\"btn btn-primary btn-sm\" role=\"button\" aria-pressed=\"true\" \n",
    "style=\"color:blue; background-color:#dfa8e4\" data-toggle=\"popover\">Content</a>\n",
    "\n",
    "[SOURCE](https://seaborn.pydata.org/generated/seaborn.lineplot.html)"
   ]
  },
  {
   "cell_type": "code",
   "execution_count": null,
   "metadata": {
    "colab": {
     "base_uri": "https://localhost:8080/",
     "height": 454
    },
    "id": "3MVqxDlXGzhY",
    "outputId": "cfe644bc-02e7-48f0-d7ae-ac5190674c0e"
   },
   "outputs": [],
   "source": []
  },
  {
   "cell_type": "code",
   "execution_count": null,
   "metadata": {
    "colab": {
     "base_uri": "https://localhost:8080/",
     "height": 401
    },
    "id": "XMN3-vmFGzfT",
    "outputId": "1afea23e-0d48-46da-bf65-10d08bb978be"
   },
   "outputs": [],
   "source": []
  },
  {
   "cell_type": "code",
   "execution_count": null,
   "metadata": {},
   "outputs": [],
   "source": []
  },
  {
   "cell_type": "code",
   "execution_count": null,
   "metadata": {
    "id": "mE7D902qZqe1",
    "outputId": "6afcfaeb-5507-47d3-986b-d25678b59961"
   },
   "outputs": [],
   "source": []
  },
  {
   "cell_type": "code",
   "execution_count": null,
   "metadata": {
    "colab": {
     "base_uri": "https://localhost:8080/",
     "height": 401
    },
    "id": "ny-VnCdxGzZH",
    "outputId": "294e813e-05f9-4cc9-85f0-c2100742cc71"
   },
   "outputs": [],
   "source": []
  },
  {
   "cell_type": "code",
   "execution_count": null,
   "metadata": {
    "colab": {
     "base_uri": "https://localhost:8080/",
     "height": 450
    },
    "id": "4-xtwMSMRcgM",
    "outputId": "ca61bf1b-04da-4015-a7bc-570e78521c4e"
   },
   "outputs": [],
   "source": []
  },
  {
   "cell_type": "code",
   "execution_count": null,
   "metadata": {
    "colab": {
     "base_uri": "https://localhost:8080/",
     "height": 296
    },
    "id": "cdKG54_CRmu5",
    "outputId": "5d903852-5cec-4df8-ff42-4963fe147201"
   },
   "outputs": [],
   "source": []
  },
  {
   "cell_type": "code",
   "execution_count": null,
   "metadata": {
    "colab": {
     "base_uri": "https://localhost:8080/",
     "height": 296
    },
    "id": "l9jIzG5vRfeS",
    "outputId": "35bf996c-9b65-4c09-a1a5-caf89884bd61"
   },
   "outputs": [],
   "source": []
  },
  {
   "cell_type": "code",
   "execution_count": null,
   "metadata": {
    "id": "26o9gX9BZqe4",
    "outputId": "ebdfb9b3-beb0-4d62-b494-b83e99838a42"
   },
   "outputs": [],
   "source": []
  },
  {
   "cell_type": "code",
   "execution_count": null,
   "metadata": {
    "colab": {
     "base_uri": "https://localhost:8080/",
     "height": 296
    },
    "id": "W3UPNbGeRjhF",
    "outputId": "6253d609-8470-4687-8d80-48ae087ed01a"
   },
   "outputs": [],
   "source": []
  },
  {
   "cell_type": "markdown",
   "metadata": {
    "id": "Faehl-YMZqfD"
   },
   "source": [
    "## <p style=\"background-color:#9d4f8c; font-family:newtimeroman; color:#FFF9ED; font-size:150%; text-align:center; border-radius:10px 10px;\">THE END OF THE SEABORN SESSION 02</p>\n",
    "\n",
    "<a id=\"8\"></a>\n",
    "<a href=\"#toc\" class=\"btn btn-primary btn-sm\" role=\"button\" aria-pressed=\"true\" \n",
    "style=\"color:blue; background-color:#dfa8e4\" data-toggle=\"popover\">Content</a>"
   ]
  },
  {
   "cell_type": "markdown",
   "metadata": {
    "id": "shw2BlRmRp4C"
   },
   "source": [
    "___\n",
    "\n",
    "<p style=\"text-align: center;\"><img src=\"https://docs.google.com/uc?id=1lY0Uj5R04yMY3-ZppPWxqCr5pvBLYPnV\" class=\"img-fluid\" \n",
    "alt=\"CLRSWY\"></p>\n",
    "\n",
    "## <p style=\"background-color:#FDFEFE; font-family:newtimeroman; color:#9d4f8c; font-size:100%; text-align:center; border-radius:10px 10px;\">WAY TO REINVENT YOURSELF</p>\n",
    "\n",
    "___"
   ]
  }
 ],
 "metadata": {
  "colab": {
   "collapsed_sections": [
    "Bfb-93A2nb9w",
    "2uXuuSRVqgZp"
   ],
   "name": "4-DVwPy_S2_Seaborn.ipynb",
   "provenance": [],
   "toc_visible": true
  },
  "kernelspec": {
   "display_name": "Python 3 (ipykernel)",
   "language": "python",
   "name": "python3"
  },
  "language_info": {
   "codemirror_mode": {
    "name": "ipython",
    "version": 3
   },
   "file_extension": ".py",
   "mimetype": "text/x-python",
   "name": "python",
   "nbconvert_exporter": "python",
   "pygments_lexer": "ipython3",
   "version": "3.9.12"
  },
  "toc": {
   "base_numbering": 1,
   "nav_menu": {},
   "number_sections": true,
   "sideBar": true,
   "skip_h1_title": false,
   "title_cell": "Table of Contents",
   "title_sidebar": "Contents",
   "toc_cell": false,
   "toc_position": {},
   "toc_section_display": true,
   "toc_window_display": false
  }
 },
 "nbformat": 4,
 "nbformat_minor": 1
}
